{
 "cells": [
  {
   "cell_type": "code",
   "execution_count": 1,
   "id": "1691d34d-5ae0-4031-a269-990d73591742",
   "metadata": {},
   "outputs": [
    {
     "data": {
      "text/plain": [
       "int"
      ]
     },
     "execution_count": 1,
     "metadata": {},
     "output_type": "execute_result"
    }
   ],
   "source": [
    "type(20)"
   ]
  },
  {
   "cell_type": "code",
   "execution_count": 2,
   "id": "10befcd5-1ecd-4a6e-8680-08295e5f8466",
   "metadata": {},
   "outputs": [
    {
     "data": {
      "text/plain": [
       "str"
      ]
     },
     "execution_count": 2,
     "metadata": {},
     "output_type": "execute_result"
    }
   ],
   "source": [
    "type(\"abc\")"
   ]
  },
  {
   "cell_type": "code",
   "execution_count": 3,
   "id": "d4f46f00-cb49-49c4-aef1-76fb8eb7ea4b",
   "metadata": {},
   "outputs": [
    {
     "data": {
      "text/plain": [
       "list"
      ]
     },
     "execution_count": 3,
     "metadata": {},
     "output_type": "execute_result"
    }
   ],
   "source": [
    "type(['a', 'b'])"
   ]
  },
  {
   "cell_type": "code",
   "execution_count": 5,
   "id": "8e3304e2-4d4c-4ecf-bdcd-a86081adbf11",
   "metadata": {},
   "outputs": [
    {
     "data": {
      "text/plain": [
       "dict"
      ]
     },
     "execution_count": 5,
     "metadata": {},
     "output_type": "execute_result"
    }
   ],
   "source": [
    "type({\"pr1\": \"a\", \"pr2\": \"b\"})"
   ]
  },
  {
   "cell_type": "code",
   "execution_count": 7,
   "id": "78bdf01e-bacc-4ffc-83ed-f2cbee535203",
   "metadata": {},
   "outputs": [
    {
     "data": {
      "text/plain": [
       "set"
      ]
     },
     "execution_count": 7,
     "metadata": {},
     "output_type": "execute_result"
    }
   ],
   "source": [
    "type({\"a\", \"b\"})"
   ]
  },
  {
   "cell_type": "code",
   "execution_count": 8,
   "id": "40ba8735-c092-4ba3-88da-b5a1594152b7",
   "metadata": {},
   "outputs": [
    {
     "data": {
      "text/plain": [
       "tuple"
      ]
     },
     "execution_count": 8,
     "metadata": {},
     "output_type": "execute_result"
    }
   ],
   "source": [
    "type((10, 10.3, \"aa\"))"
   ]
  },
  {
   "cell_type": "code",
   "execution_count": 9,
   "id": "10086ec9-03e9-4c2f-b71a-38d234667266",
   "metadata": {},
   "outputs": [],
   "source": [
    "myString = \"abcdefghijk\""
   ]
  },
  {
   "cell_type": "code",
   "execution_count": 60,
   "id": "4bf5a547-a063-4dbd-98d0-f00a14c304f3",
   "metadata": {},
   "outputs": [
    {
     "data": {
      "text/plain": [
       "5"
      ]
     },
     "execution_count": 60,
     "metadata": {},
     "output_type": "execute_result"
    }
   ],
   "source": [
    "len(myString)"
   ]
  },
  {
   "cell_type": "code",
   "execution_count": 12,
   "id": "27861871-b917-4b1e-9086-1c3a74890ffd",
   "metadata": {},
   "outputs": [
    {
     "data": {
      "text/plain": [
       "'cdefghijk'"
      ]
     },
     "execution_count": 12,
     "metadata": {},
     "output_type": "execute_result"
    }
   ],
   "source": [
    "myString[2:]"
   ]
  },
  {
   "cell_type": "code",
   "execution_count": 13,
   "id": "685c3f4c-5d11-45b5-8162-a423be91fa1b",
   "metadata": {},
   "outputs": [
    {
     "data": {
      "text/plain": [
       "'abcd'"
      ]
     },
     "execution_count": 13,
     "metadata": {},
     "output_type": "execute_result"
    }
   ],
   "source": [
    "myString[:4]"
   ]
  },
  {
   "cell_type": "code",
   "execution_count": 14,
   "id": "20153d3f-be57-4526-be87-b57ea296fa9d",
   "metadata": {},
   "outputs": [
    {
     "data": {
      "text/plain": [
       "'efgh'"
      ]
     },
     "execution_count": 14,
     "metadata": {},
     "output_type": "execute_result"
    }
   ],
   "source": [
    "myString[4:8]"
   ]
  },
  {
   "cell_type": "code",
   "execution_count": 15,
   "id": "475f1d82-51bb-4b45-bdbd-fcea0b66e7e0",
   "metadata": {},
   "outputs": [
    {
     "data": {
      "text/plain": [
       "'abcdefghijk'"
      ]
     },
     "execution_count": 15,
     "metadata": {},
     "output_type": "execute_result"
    }
   ],
   "source": [
    "myString[::]"
   ]
  },
  {
   "cell_type": "code",
   "execution_count": 16,
   "id": "1fe91979-f1ac-4a6c-a074-e71780bd1eef",
   "metadata": {},
   "outputs": [
    {
     "data": {
      "text/plain": [
       "'acegik'"
      ]
     },
     "execution_count": 16,
     "metadata": {},
     "output_type": "execute_result"
    }
   ],
   "source": [
    "myString[::2]"
   ]
  },
  {
   "cell_type": "code",
   "execution_count": 17,
   "id": "2742b261-ef61-414d-88d2-5bf87ffcf589",
   "metadata": {},
   "outputs": [
    {
     "data": {
      "text/plain": [
       "'kjihgfedcba'"
      ]
     },
     "execution_count": 17,
     "metadata": {},
     "output_type": "execute_result"
    }
   ],
   "source": [
    "myString[::-1]"
   ]
  },
  {
   "cell_type": "code",
   "execution_count": 18,
   "id": "a32ddfae-7b74-4b8b-b2bb-0fbc66a77b4c",
   "metadata": {},
   "outputs": [
    {
     "data": {
      "text/plain": [
       "'/Users/huelinhnguyen/Desktop/learn/python'"
      ]
     },
     "execution_count": 18,
     "metadata": {},
     "output_type": "execute_result"
    }
   ],
   "source": [
    "pwd"
   ]
  },
  {
   "cell_type": "code",
   "execution_count": 20,
   "id": "fd01efc2-33f6-4f07-98bc-24bcad470b3e",
   "metadata": {},
   "outputs": [
    {
     "name": "stdout",
     "output_type": "stream",
     "text": [
      "Overwriting myFile.txt\n"
     ]
    }
   ],
   "source": [
    "%%writefile myFile.txt\n",
    "Hello this is my text file\n",
    "Hello this is the second line\n",
    "This is the third line"
   ]
  },
  {
   "cell_type": "code",
   "execution_count": 21,
   "id": "f49b657f-78d6-4573-a641-5feeb70c844a",
   "metadata": {},
   "outputs": [],
   "source": [
    "myfile = open('myFile.txt')"
   ]
  },
  {
   "cell_type": "code",
   "execution_count": 23,
   "id": "189162d1-3364-402e-ae48-d0b2ddb9d111",
   "metadata": {},
   "outputs": [
    {
     "name": "stdout",
     "output_type": "stream",
     "text": [
      "Writing myTestFile.txt\n"
     ]
    }
   ],
   "source": [
    "%%writefile myTestFile.txt\n",
    "Hello this is my text file\n",
    "Hello this is the second line\n",
    "This is the third line"
   ]
  },
  {
   "cell_type": "code",
   "execution_count": 24,
   "id": "93cccf80-4d35-4d84-b611-266835d1f0e9",
   "metadata": {},
   "outputs": [
    {
     "data": {
      "text/plain": [
       "'Hello this is my text file\\nHello this is the second line\\nThis is the third line\\n'"
      ]
     },
     "execution_count": 24,
     "metadata": {},
     "output_type": "execute_result"
    }
   ],
   "source": [
    "myfile.read()"
   ]
  },
  {
   "cell_type": "code",
   "execution_count": 33,
   "id": "e2119522-cdf0-445d-99a4-1a0b6c07e75e",
   "metadata": {},
   "outputs": [
    {
     "data": {
      "text/plain": [
       "['Hello this is my text file\\n',\n",
       " 'Hello this is the second line\\n',\n",
       " 'This is the third line\\n']"
      ]
     },
     "execution_count": 33,
     "metadata": {},
     "output_type": "execute_result"
    }
   ],
   "source": [
    "myfile.readlines()"
   ]
  },
  {
   "cell_type": "code",
   "execution_count": 32,
   "id": "6a3145e6-2d09-496f-8ec9-59a12f8b7763",
   "metadata": {},
   "outputs": [
    {
     "data": {
      "text/plain": [
       "0"
      ]
     },
     "execution_count": 32,
     "metadata": {},
     "output_type": "execute_result"
    }
   ],
   "source": [
    "myfile.seek(0)"
   ]
  },
  {
   "cell_type": "code",
   "execution_count": 34,
   "id": "36615ce5-fbc4-4ea9-9030-e27248169c8b",
   "metadata": {},
   "outputs": [],
   "source": [
    "myfile.close()"
   ]
  },
  {
   "cell_type": "code",
   "execution_count": 37,
   "id": "eb1d1054-1896-4e76-958f-dc53e887a803",
   "metadata": {},
   "outputs": [],
   "source": [
    "with open('myFile.txt',) as new_content:\n",
    "    content_new = new_content.read()"
   ]
  },
  {
   "cell_type": "code",
   "execution_count": 38,
   "id": "583204c5-50b3-4db5-82db-8c212860bee2",
   "metadata": {},
   "outputs": [
    {
     "data": {
      "text/plain": [
       "'Hello this is my text file\\nHello this is the second line\\nThis is the third line\\n'"
      ]
     },
     "execution_count": 38,
     "metadata": {},
     "output_type": "execute_result"
    }
   ],
   "source": [
    "content_new"
   ]
  },
  {
   "cell_type": "code",
   "execution_count": 40,
   "id": "3b900e7d-8bf8-4e2e-b17d-89a5ca8a862d",
   "metadata": {},
   "outputs": [],
   "source": [
    "with open('myFile.txt', mode = 'r') as newfile:\n",
    "    contents = newfile.read()"
   ]
  },
  {
   "cell_type": "code",
   "execution_count": 41,
   "id": "dd94e837-00a3-47ae-a152-988cdb6577c1",
   "metadata": {},
   "outputs": [
    {
     "data": {
      "text/plain": [
       "'Hello this is my text file\\nHello this is the second line\\nThis is the third line\\n'"
      ]
     },
     "execution_count": 41,
     "metadata": {},
     "output_type": "execute_result"
    }
   ],
   "source": [
    "contents"
   ]
  },
  {
   "cell_type": "code",
   "execution_count": 42,
   "id": "168ff0cb-2ba2-4a1d-a68f-afd350fe6cce",
   "metadata": {},
   "outputs": [
    {
     "name": "stdout",
     "output_type": "stream",
     "text": [
      "Overwriting myTestFile.txt\n"
     ]
    }
   ],
   "source": [
    "%%writefile myTestFile.txt\n",
    "First line\n",
    "Second line"
   ]
  },
  {
   "cell_type": "code",
   "execution_count": 46,
   "id": "8ebef6f3-f641-4651-a90c-18dca2ef8461",
   "metadata": {},
   "outputs": [],
   "source": [
    "with open('myTestFile.txt', mode = \"a\") as f:\n",
    "    f.write('\\nThird line')"
   ]
  },
  {
   "cell_type": "code",
   "execution_count": 48,
   "id": "10b034c4-7cfc-4031-9b4b-c03ec553ceab",
   "metadata": {},
   "outputs": [
    {
     "name": "stdout",
     "output_type": "stream",
     "text": [
      "First line\n",
      "Second line\n",
      "\n",
      "Third line\n"
     ]
    }
   ],
   "source": [
    "with open('myTestFile.txt') as f:\n",
    "    print(f.read())"
   ]
  },
  {
   "cell_type": "code",
   "execution_count": 51,
   "id": "2d64b605-35a9-4082-bd03-5457939fb72b",
   "metadata": {},
   "outputs": [],
   "source": [
    "with open('cat.txt', mode = 'w') as f:\n",
    "    f.write('This is cat file')"
   ]
  },
  {
   "cell_type": "code",
   "execution_count": 68,
   "id": "a3067971-02bd-4374-bdac-3db310a9be42",
   "metadata": {},
   "outputs": [],
   "source": [
    "file = open('dog.txt', 'w')"
   ]
  },
  {
   "cell_type": "code",
   "execution_count": 69,
   "id": "07e69a1c-6208-4363-9409-5915c5045bcf",
   "metadata": {},
   "outputs": [
    {
     "data": {
      "text/plain": [
       "16"
      ]
     },
     "execution_count": 69,
     "metadata": {},
     "output_type": "execute_result"
    }
   ],
   "source": [
    "file.write('this is dog file')"
   ]
  },
  {
   "cell_type": "code",
   "execution_count": 61,
   "id": "3cf94491-30e2-46bb-a9d7-40d92057b8d7",
   "metadata": {},
   "outputs": [
    {
     "ename": "UnsupportedOperation",
     "evalue": "not readable",
     "output_type": "error",
     "traceback": [
      "\u001b[0;31m---------------------------------------------------------------------------\u001b[0m",
      "\u001b[0;31mUnsupportedOperation\u001b[0m                      Traceback (most recent call last)",
      "Cell \u001b[0;32mIn[61], line 1\u001b[0m\n\u001b[0;32m----> 1\u001b[0m \u001b[43mfile\u001b[49m\u001b[38;5;241;43m.\u001b[39;49m\u001b[43mread\u001b[49m\u001b[43m(\u001b[49m\u001b[43m)\u001b[49m\n",
      "\u001b[0;31mUnsupportedOperation\u001b[0m: not readable"
     ]
    }
   ],
   "source": [
    "file.read()"
   ]
  },
  {
   "cell_type": "code",
   "execution_count": 66,
   "id": "63fa56a8-8ca7-4aaa-b866-3c7ec1f41a81",
   "metadata": {},
   "outputs": [
    {
     "name": "stdout",
     "output_type": "stream",
     "text": [
      "this is dog filethis is dog filethis is dog file\n"
     ]
    }
   ],
   "source": [
    "with open('dog.txt', 'r') as f:\n",
    "    print(f.read())"
   ]
  },
  {
   "cell_type": "code",
   "execution_count": 70,
   "id": "292f2281-bacf-4602-b2c9-fb21ab709d98",
   "metadata": {},
   "outputs": [],
   "source": [
    "file.close()"
   ]
  },
  {
   "cell_type": "code",
   "execution_count": 76,
   "id": "c412e686-8a16-4b67-8a9d-1ec2b1cb7d3d",
   "metadata": {},
   "outputs": [
    {
     "name": "stdout",
     "output_type": "stream",
     "text": [
      "abc\n"
     ]
    }
   ],
   "source": [
    "if True:\n",
    "    print(\"abc\")"
   ]
  },
  {
   "cell_type": "code",
   "execution_count": 77,
   "id": "4b0f8d0f-8e77-4c56-bfa3-5085572d30f4",
   "metadata": {},
   "outputs": [],
   "source": [
    "myList = [1, 2, 3, 4, 5, 6]"
   ]
  },
  {
   "cell_type": "code",
   "execution_count": 78,
   "id": "2074d77d-c216-440f-bda6-e8d8ae3b5c39",
   "metadata": {},
   "outputs": [
    {
     "name": "stdout",
     "output_type": "stream",
     "text": [
      "1\n",
      "2\n",
      "3\n",
      "4\n",
      "5\n",
      "6\n"
     ]
    }
   ],
   "source": [
    "for item in myList:\n",
    "    print(item)"
   ]
  },
  {
   "cell_type": "code",
   "execution_count": 79,
   "id": "414e4c74-b71f-4fb3-a749-046705f393ed",
   "metadata": {},
   "outputs": [],
   "source": [
    "t1 = {'k1': 1, 'k2': 2, 'k3': 3, 'k4': 4}"
   ]
  },
  {
   "cell_type": "code",
   "execution_count": 80,
   "id": "7d781433-6679-46b3-973c-8e4429a050e0",
   "metadata": {},
   "outputs": [
    {
     "data": {
      "text/plain": [
       "{'k1': 1, 'k2': 2, 'k3': 3, 'k4': 4}"
      ]
     },
     "execution_count": 80,
     "metadata": {},
     "output_type": "execute_result"
    }
   ],
   "source": [
    "t1"
   ]
  },
  {
   "cell_type": "code",
   "execution_count": 81,
   "id": "fcc251e4-1a50-45c2-bed8-59657f8561c0",
   "metadata": {},
   "outputs": [
    {
     "data": {
      "text/plain": [
       "dict_items([('k1', 1), ('k2', 2), ('k3', 3), ('k4', 4)])"
      ]
     },
     "execution_count": 81,
     "metadata": {},
     "output_type": "execute_result"
    }
   ],
   "source": [
    "t1.items()"
   ]
  },
  {
   "cell_type": "code",
   "execution_count": 82,
   "id": "74cc1762-fbd1-4ef0-aa94-1639089c12ee",
   "metadata": {},
   "outputs": [
    {
     "data": {
      "text/plain": [
       "dict_keys(['k1', 'k2', 'k3', 'k4'])"
      ]
     },
     "execution_count": 82,
     "metadata": {},
     "output_type": "execute_result"
    }
   ],
   "source": [
    "t1.keys()"
   ]
  },
  {
   "cell_type": "code",
   "execution_count": 83,
   "id": "73dd9454-306e-4467-8434-ad1bfccc64e0",
   "metadata": {},
   "outputs": [
    {
     "name": "stdout",
     "output_type": "stream",
     "text": [
      "k1\n",
      "k2\n",
      "k3\n",
      "k4\n"
     ]
    }
   ],
   "source": [
    "for item in t1:\n",
    "    print(item)"
   ]
  },
  {
   "cell_type": "code",
   "execution_count": 89,
   "id": "2f1e3be9-6b42-4b0f-989e-26df68586b76",
   "metadata": {},
   "outputs": [
    {
     "name": "stdout",
     "output_type": "stream",
     "text": [
      "1\n",
      "2\n",
      "3\n",
      "4\n"
     ]
    }
   ],
   "source": [
    "for item in t1.values():\n",
    "    print(item)"
   ]
  },
  {
   "cell_type": "code",
   "execution_count": 85,
   "id": "616ec24c-c51d-400b-9462-92c50f8de869",
   "metadata": {},
   "outputs": [
    {
     "name": "stdout",
     "output_type": "stream",
     "text": [
      "('k1', 1)\n",
      "('k2', 2)\n",
      "('k3', 3)\n",
      "('k4', 4)\n"
     ]
    }
   ],
   "source": [
    "for item in t1.items():\n",
    "    print(item)"
   ]
  },
  {
   "cell_type": "code",
   "execution_count": 90,
   "id": "494c703e-c17f-44f7-a277-f9aeaa3b785c",
   "metadata": {},
   "outputs": [
    {
     "name": "stdout",
     "output_type": "stream",
     "text": [
      "1\n",
      "2\n",
      "3\n",
      "4\n"
     ]
    }
   ],
   "source": [
    "for value in t1.values():\n",
    "    print(value)"
   ]
  },
  {
   "cell_type": "code",
   "execution_count": 91,
   "id": "8d21ed9d-9138-4d11-a401-b177fefec994",
   "metadata": {},
   "outputs": [],
   "source": [
    "x = 6"
   ]
  },
  {
   "cell_type": "code",
   "execution_count": 92,
   "id": "25fabd97-2659-4e31-a396-961a392543f7",
   "metadata": {},
   "outputs": [],
   "source": [
    "while x < 6:\n",
    "    print(x)\n",
    "    x += 1"
   ]
  },
  {
   "cell_type": "code",
   "execution_count": 93,
   "id": "698c19b8-f3d2-435c-8918-2575c2476832",
   "metadata": {},
   "outputs": [
    {
     "data": {
      "text/plain": [
       "6"
      ]
     },
     "execution_count": 93,
     "metadata": {},
     "output_type": "execute_result"
    }
   ],
   "source": [
    "x"
   ]
  },
  {
   "cell_type": "code",
   "execution_count": 94,
   "id": "ba4c4500-9661-4402-9ea7-1daa8b896f6e",
   "metadata": {},
   "outputs": [
    {
     "name": "stdout",
     "output_type": "stream",
     "text": [
      "x: 1\n",
      "x: 2\n",
      "x: 3\n",
      "x: 4\n",
      "x: 5\n"
     ]
    }
   ],
   "source": [
    "x = 1;\n",
    "while x < 6:\n",
    "    print('x:', x)\n",
    "    x += 1"
   ]
  },
  {
   "cell_type": "code",
   "execution_count": 95,
   "id": "0962735b-2dc3-4911-947c-ae4a938253cc",
   "metadata": {},
   "outputs": [
    {
     "name": "stdout",
     "output_type": "stream",
     "text": [
      "1\n",
      "2\n"
     ]
    }
   ],
   "source": [
    "x = 1;\n",
    "while x < 6:\n",
    "    if x == 3:\n",
    "        break\n",
    "    print(x)\n",
    "    x += 1"
   ]
  },
  {
   "cell_type": "code",
   "execution_count": null,
   "id": "ee5b53b2-1982-43dc-92ff-2ff35bd8921a",
   "metadata": {},
   "outputs": [
    {
     "name": "stdout",
     "output_type": "stream",
     "text": [
      "1\n",
      "2\n"
     ]
    }
   ],
   "source": [
    "x = 1;\n",
    "while x < 6:\n",
    "    if x == 3:\n",
    "        continue\n",
    "    print(x)\n",
    "    x += 1"
   ]
  },
  {
   "cell_type": "code",
   "execution_count": 7,
   "id": "9d72f2c7-7a82-4545-9880-52e31dde898d",
   "metadata": {},
   "outputs": [],
   "source": [
    "myList = [1, 2, 3, 4, 5, 6]\n",
    "for item in myList:\n",
    "    if(item == 4):\n",
    "        pass"
   ]
  },
  {
   "cell_type": "code",
   "execution_count": 9,
   "id": "33b0782a-108c-4d2f-b315-0b0974c2a33e",
   "metadata": {},
   "outputs": [
    {
     "data": {
      "text/plain": [
       "[0, 1, 2, 3, 4, 5, 6, 7, 8, 9]"
      ]
     },
     "execution_count": 9,
     "metadata": {},
     "output_type": "execute_result"
    }
   ],
   "source": [
    "list(range(0, 10))"
   ]
  },
  {
   "cell_type": "code",
   "execution_count": 11,
   "id": "38ed4586-cf3c-4d9a-935d-3b5575842690",
   "metadata": {},
   "outputs": [],
   "source": [
    "word = 'abcdef'"
   ]
  },
  {
   "cell_type": "code",
   "execution_count": 12,
   "id": "853e908b-0ccc-4070-940b-f5969183442c",
   "metadata": {},
   "outputs": [
    {
     "data": {
      "text/plain": [
       "'abcdef'"
      ]
     },
     "execution_count": 12,
     "metadata": {},
     "output_type": "execute_result"
    }
   ],
   "source": [
    "word"
   ]
  },
  {
   "cell_type": "code",
   "execution_count": 14,
   "id": "f713db7d-d482-461a-baa1-133572b2b4f6",
   "metadata": {},
   "outputs": [
    {
     "name": "stdout",
     "output_type": "stream",
     "text": [
      "(0, 'a')\n",
      "(1, 'b')\n",
      "(2, 'c')\n",
      "(3, 'd')\n",
      "(4, 'e')\n",
      "(5, 'f')\n"
     ]
    }
   ],
   "source": [
    "for item in enumerate(word):\n",
    "    print(item)"
   ]
  },
  {
   "cell_type": "code",
   "execution_count": 16,
   "id": "d840c384-f0d0-4ebb-8239-64e66416e37e",
   "metadata": {},
   "outputs": [
    {
     "name": "stdout",
     "output_type": "stream",
     "text": [
      "(1, 'x', 10)\n",
      "(2, 'y', 20)\n",
      "(3, 'z', 30)\n"
     ]
    }
   ],
   "source": [
    "myNum = [1, 2, 3, 4]\n",
    "myList = ['x', 'y', 'z']\n",
    "myList1 = [10, 20, 30]\n",
    "for item in zip(myNum, myList, myList1):\n",
    "    print(item)"
   ]
  },
  {
   "cell_type": "code",
   "execution_count": 17,
   "id": "b6aa1818-a680-4a5b-9e98-c80baf61c6ef",
   "metadata": {},
   "outputs": [
    {
     "data": {
      "text/plain": [
       "[(1, 'x', 10), (2, 'y', 20), (3, 'z', 30)]"
      ]
     },
     "execution_count": 17,
     "metadata": {},
     "output_type": "execute_result"
    }
   ],
   "source": [
    "list(zip(myNum, myList, myList1))"
   ]
  },
  {
   "cell_type": "code",
   "execution_count": 18,
   "id": "3b4c5fb6-08b4-4390-8da8-26a83f0e648f",
   "metadata": {},
   "outputs": [
    {
     "data": {
      "text/plain": [
       "True"
      ]
     },
     "execution_count": 18,
     "metadata": {},
     "output_type": "execute_result"
    }
   ],
   "source": [
    "2 in [1, 2, 3]"
   ]
  },
  {
   "cell_type": "code",
   "execution_count": 19,
   "id": "c5656e70-75e2-42f4-a56f-bec6c13e756a",
   "metadata": {},
   "outputs": [
    {
     "data": {
      "text/plain": [
       "False"
      ]
     },
     "execution_count": 19,
     "metadata": {},
     "output_type": "execute_result"
    }
   ],
   "source": [
    "4 in [1, 2, 3]"
   ]
  },
  {
   "cell_type": "code",
   "execution_count": 20,
   "id": "6d69cac2-8aad-413d-9b53-196255db3807",
   "metadata": {},
   "outputs": [],
   "source": [
    "from random import shuffle"
   ]
  },
  {
   "cell_type": "code",
   "execution_count": 24,
   "id": "a5fea83a-16d7-4291-8ab7-989011f6cd72",
   "metadata": {},
   "outputs": [],
   "source": [
    "list1 = [1, 2, 3, 4, 5]\n",
    "shuffle(list1)"
   ]
  },
  {
   "cell_type": "code",
   "execution_count": 25,
   "id": "ce139c79-a19f-4efb-a950-8dc7cd856ed4",
   "metadata": {},
   "outputs": [
    {
     "data": {
      "text/plain": [
       "[3, 5, 1, 4, 2]"
      ]
     },
     "execution_count": 25,
     "metadata": {},
     "output_type": "execute_result"
    }
   ],
   "source": [
    "list1"
   ]
  },
  {
   "cell_type": "code",
   "execution_count": 26,
   "id": "d77b7818-c7c1-49a0-925b-7602a2e39cc8",
   "metadata": {},
   "outputs": [],
   "source": [
    "t1 = shuffle(list1)"
   ]
  },
  {
   "cell_type": "code",
   "execution_count": 27,
   "id": "64e8fd5b-bf83-4719-828a-6396615819a7",
   "metadata": {},
   "outputs": [],
   "source": [
    "t1"
   ]
  },
  {
   "cell_type": "raw",
   "id": "da392f66-1744-479c-ae8e-5b80dba41640",
   "metadata": {},
   "source": [
    "input('Enter number here: ')"
   ]
  },
  {
   "cell_type": "code",
   "execution_count": 31,
   "id": "92467cec-9e83-4774-bd88-93932667d8b6",
   "metadata": {},
   "outputs": [
    {
     "name": "stdin",
     "output_type": "stream",
     "text": [
      "What is your name john\n"
     ]
    }
   ],
   "source": [
    "result = input('What is your name')"
   ]
  },
  {
   "cell_type": "code",
   "execution_count": 32,
   "id": "8b5f9526-fb20-4c4f-a417-67ba782b9741",
   "metadata": {},
   "outputs": [
    {
     "data": {
      "text/plain": [
       "'john'"
      ]
     },
     "execution_count": 32,
     "metadata": {},
     "output_type": "execute_result"
    }
   ],
   "source": [
    "result"
   ]
  },
  {
   "cell_type": "code",
   "execution_count": 36,
   "id": "70bfcc2f-6029-4f2b-92c7-0a7b81bcdaa8",
   "metadata": {},
   "outputs": [
    {
     "name": "stdin",
     "output_type": "stream",
     "text": [
      "What is your name dgf\n"
     ]
    },
    {
     "ename": "ValueError",
     "evalue": "invalid literal for int() with base 10: 'dgf'",
     "output_type": "error",
     "traceback": [
      "\u001b[0;31m---------------------------------------------------------------------------\u001b[0m",
      "\u001b[0;31mValueError\u001b[0m                                Traceback (most recent call last)",
      "Cell \u001b[0;32mIn[36], line 1\u001b[0m\n\u001b[0;32m----> 1\u001b[0m result \u001b[38;5;241m=\u001b[39m \u001b[38;5;28;43mint\u001b[39;49m\u001b[43m(\u001b[49m\u001b[38;5;28;43minput\u001b[39;49m\u001b[43m(\u001b[49m\u001b[38;5;124;43m'\u001b[39;49m\u001b[38;5;124;43mWhat is your name\u001b[39;49m\u001b[38;5;124;43m'\u001b[39;49m\u001b[43m)\u001b[49m\u001b[43m)\u001b[49m\n",
      "\u001b[0;31mValueError\u001b[0m: invalid literal for int() with base 10: 'dgf'"
     ]
    }
   ],
   "source": [
    "result = int(input('What is your name'))"
   ]
  },
  {
   "cell_type": "code",
   "execution_count": 35,
   "id": "59f3d117-0895-4f4c-b52f-fa1896687d51",
   "metadata": {},
   "outputs": [
    {
     "data": {
      "text/plain": [
       "int"
      ]
     },
     "execution_count": 35,
     "metadata": {},
     "output_type": "execute_result"
    }
   ],
   "source": [
    "type(result)"
   ]
  },
  {
   "cell_type": "code",
   "execution_count": 37,
   "id": "56222ffd-7dc5-4838-9e34-86255a3235e3",
   "metadata": {},
   "outputs": [],
   "source": [
    "myString = 'hello'"
   ]
  },
  {
   "cell_type": "code",
   "execution_count": 38,
   "id": "3a826000-03de-4fae-8a0c-e5471155e521",
   "metadata": {},
   "outputs": [],
   "source": [
    "# list comprehension\n",
    "myList = [letter for letter in myString]"
   ]
  },
  {
   "cell_type": "code",
   "execution_count": 39,
   "id": "8f76b4d8-1ed6-46a9-86b1-6547349ef7f1",
   "metadata": {},
   "outputs": [
    {
     "data": {
      "text/plain": [
       "['h', 'e', 'l', 'l', 'o']"
      ]
     },
     "execution_count": 39,
     "metadata": {},
     "output_type": "execute_result"
    }
   ],
   "source": [
    "myList"
   ]
  },
  {
   "cell_type": "code",
   "execution_count": 43,
   "id": "4982aabc-840c-4e59-80a2-1d1dd9081809",
   "metadata": {},
   "outputs": [
    {
     "name": "stdout",
     "output_type": "stream",
     "text": [
      "h\n",
      "e\n",
      "l\n",
      "l\n",
      "o\n"
     ]
    }
   ],
   "source": [
    "for letter in myString:\n",
    "    print(letter)"
   ]
  },
  {
   "cell_type": "code",
   "execution_count": 73,
   "id": "82521cb9-4131-42ad-bc93-cece8d1b236f",
   "metadata": {},
   "outputs": [],
   "source": [
    "list1 = [x*3 for x in 'word']"
   ]
  },
  {
   "cell_type": "code",
   "execution_count": 78,
   "id": "e4d601a9-3448-4086-b5ee-041eb018c68b",
   "metadata": {},
   "outputs": [
    {
     "data": {
      "text/plain": [
       "'wwwooorrrddd'"
      ]
     },
     "execution_count": 78,
     "metadata": {},
     "output_type": "execute_result"
    }
   ],
   "source": [
    "''.join(list1)"
   ]
  },
  {
   "cell_type": "code",
   "execution_count": 46,
   "id": "011c0835-da7d-42a2-a66b-509fe686bf3c",
   "metadata": {},
   "outputs": [],
   "source": [
    "list2 = [x for x in range(0,5)]"
   ]
  },
  {
   "cell_type": "code",
   "execution_count": 47,
   "id": "6d032fca-a0dc-4dd8-801e-467e6da74f3e",
   "metadata": {},
   "outputs": [
    {
     "data": {
      "text/plain": [
       "[0, 1, 2, 3, 4]"
      ]
     },
     "execution_count": 47,
     "metadata": {},
     "output_type": "execute_result"
    }
   ],
   "source": [
    "list2"
   ]
  },
  {
   "cell_type": "code",
   "execution_count": 52,
   "id": "dab2f0b0-4abf-48dc-bc47-fb0262a26328",
   "metadata": {},
   "outputs": [],
   "source": [
    "list2 = [x for x in range(0,5) if x%2 == 0]"
   ]
  },
  {
   "cell_type": "code",
   "execution_count": 53,
   "id": "b314aa01-66ef-44a7-adf9-f5bb876c2007",
   "metadata": {},
   "outputs": [
    {
     "data": {
      "text/plain": [
       "[0, 2, 4]"
      ]
     },
     "execution_count": 53,
     "metadata": {},
     "output_type": "execute_result"
    }
   ],
   "source": [
    "list2"
   ]
  },
  {
   "cell_type": "code",
   "execution_count": 54,
   "id": "84b301e9-4a66-4a90-92a8-b3cc501499af",
   "metadata": {},
   "outputs": [],
   "source": [
    "myList = []\n",
    "for x in [1, 2, 3]:\n",
    "    for y in [1, 10, 100]:\n",
    "        myList.append(x*y)"
   ]
  },
  {
   "cell_type": "code",
   "execution_count": 55,
   "id": "d50f662b-d3c6-439d-942f-534b85a2c4b1",
   "metadata": {},
   "outputs": [
    {
     "data": {
      "text/plain": [
       "[1, 10, 100, 2, 20, 200, 3, 30, 300]"
      ]
     },
     "execution_count": 55,
     "metadata": {},
     "output_type": "execute_result"
    }
   ],
   "source": [
    "myList"
   ]
  },
  {
   "cell_type": "code",
   "execution_count": 56,
   "id": "a8adb37d-3fdc-4edc-b561-5c9ce00ad6bc",
   "metadata": {},
   "outputs": [],
   "source": [
    "myList = [x*y for x in [1, 2, 3] for y in [1, 10, 100]]"
   ]
  },
  {
   "cell_type": "code",
   "execution_count": 57,
   "id": "a48a1d7f-429c-4389-94db-1c270829e205",
   "metadata": {},
   "outputs": [
    {
     "data": {
      "text/plain": [
       "[1, 10, 100, 2, 20, 200, 3, 30, 300]"
      ]
     },
     "execution_count": 57,
     "metadata": {},
     "output_type": "execute_result"
    }
   ],
   "source": [
    "myList"
   ]
  },
  {
   "cell_type": "code",
   "execution_count": 61,
   "id": "6da41232-2bd3-44ed-a401-6979393d927c",
   "metadata": {},
   "outputs": [],
   "source": [
    "t1 = ('Rose', 1)"
   ]
  },
  {
   "cell_type": "code",
   "execution_count": 64,
   "id": "ea2286af-d1fd-4ba3-9965-9a8a8d448349",
   "metadata": {},
   "outputs": [
    {
     "data": {
      "text/plain": [
       "1"
      ]
     },
     "execution_count": 64,
     "metadata": {},
     "output_type": "execute_result"
    }
   ],
   "source": [
    "t1[1]"
   ]
  },
  {
   "cell_type": "code",
   "execution_count": 69,
   "id": "8f28c449-a4ac-48e9-af04-89f369b3542c",
   "metadata": {},
   "outputs": [
    {
     "data": {
      "text/plain": [
       "['e', 'd', 'c', 'b', 'a']"
      ]
     },
     "execution_count": 69,
     "metadata": {},
     "output_type": "execute_result"
    }
   ],
   "source": [
    "['a', 'b', 'c', 'd', 'e'][::-1]"
   ]
  },
  {
   "cell_type": "code",
   "execution_count": 6,
   "id": "17498d93-bb20-4583-a653-a1e2447ed539",
   "metadata": {},
   "outputs": [
    {
     "data": {
      "text/plain": [
       "1"
      ]
     },
     "execution_count": 6,
     "metadata": {},
     "output_type": "execute_result"
    }
   ],
   "source": [
    "[3, 2, 1, 2].index(2)"
   ]
  },
  {
   "cell_type": "code",
   "execution_count": 19,
   "id": "ead9561a-66e2-4baf-9a1b-78b98f027420",
   "metadata": {},
   "outputs": [],
   "source": [
    "t1 = [char for char in [3, 2, 1, 2] if char == 2]"
   ]
  },
  {
   "cell_type": "code",
   "execution_count": 20,
   "id": "c1a8c3d6-519d-41c3-9dfb-02bb1ead76ca",
   "metadata": {},
   "outputs": [
    {
     "data": {
      "text/plain": [
       "[2, 2]"
      ]
     },
     "execution_count": 20,
     "metadata": {},
     "output_type": "execute_result"
    }
   ],
   "source": [
    "t1"
   ]
  },
  {
   "cell_type": "code",
   "execution_count": null,
   "id": "cab0a65a-bae3-43b6-9025-83a421fc2b51",
   "metadata": {},
   "outputs": [],
   "source": []
  }
 ],
 "metadata": {
  "kernelspec": {
   "display_name": "Python 3 (ipykernel)",
   "language": "python",
   "name": "python3"
  },
  "language_info": {
   "codemirror_mode": {
    "name": "ipython",
    "version": 3
   },
   "file_extension": ".py",
   "mimetype": "text/x-python",
   "name": "python",
   "nbconvert_exporter": "python",
   "pygments_lexer": "ipython3",
   "version": "3.12.1"
  }
 },
 "nbformat": 4,
 "nbformat_minor": 5
}
