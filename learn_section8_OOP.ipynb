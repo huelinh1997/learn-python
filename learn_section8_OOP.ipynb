{
 "cells": [
  {
   "cell_type": "code",
   "execution_count": 3,
   "id": "610f4fe3-f052-4a42-97cc-d998c4f9fb39",
   "metadata": {},
   "outputs": [],
   "source": [
    "class Sample():\n",
    "    pass"
   ]
  },
  {
   "cell_type": "code",
   "execution_count": 4,
   "id": "68d37a41-83b6-4b2f-93b8-d8f14d3299c2",
   "metadata": {},
   "outputs": [],
   "source": [
    "my_sample = Sample() # my_sample is instance of class Sample"
   ]
  },
  {
   "cell_type": "code",
   "execution_count": 6,
   "id": "e22478e0-fff0-4631-9b5a-2e0383045e1a",
   "metadata": {},
   "outputs": [
    {
     "data": {
      "text/plain": [
       "__main__.Sample"
      ]
     },
     "execution_count": 6,
     "metadata": {},
     "output_type": "execute_result"
    }
   ],
   "source": [
    "type(my_sample)"
   ]
  },
  {
   "cell_type": "code",
   "execution_count": 49,
   "id": "10fede83-f9a8-46f5-9e53-57970f6dd36e",
   "metadata": {},
   "outputs": [],
   "source": [
    "class Dog():\n",
    "    # CLASS OBJECT ATTRIBUTE\n",
    "    description = \"This is a cute dog\" # this is not require when create new instance of Dog because it not connected to self\n",
    "    # SAMPLE FOR ANY INSTANCE OF A CLASS\n",
    "    def __init__(self, breed, name, spots):\n",
    "        self.breed = breed\n",
    "        self.name = name\n",
    "        self.spots = spots\n",
    "    # OPERATIONS/ Actions ---> Methods\n",
    "    def bark(self, age = 3):\n",
    "        print(f\"Gau gau gau, My name is {self.name}, my age is {age}\")"
   ]
  },
  {
   "cell_type": "code",
   "execution_count": 50,
   "id": "eb67504a-fee8-4f3b-9f29-c0c437f12445",
   "metadata": {},
   "outputs": [],
   "source": [
    "my_dog = Dog(\"poodle\", \"belly\", False)"
   ]
  },
  {
   "cell_type": "code",
   "execution_count": 22,
   "id": "0828a784-8b95-4d1b-9e43-96cd5c54d8eb",
   "metadata": {},
   "outputs": [
    {
     "data": {
      "text/plain": [
       "__main__.Dog"
      ]
     },
     "execution_count": 22,
     "metadata": {},
     "output_type": "execute_result"
    }
   ],
   "source": [
    "type(my_dog)"
   ]
  },
  {
   "cell_type": "code",
   "execution_count": 23,
   "id": "cadda186-c2cb-4712-a1d9-eeaf8b86d74f",
   "metadata": {},
   "outputs": [
    {
     "data": {
      "text/plain": [
       "'poodle'"
      ]
     },
     "execution_count": 23,
     "metadata": {},
     "output_type": "execute_result"
    }
   ],
   "source": [
    "my_dog.breed"
   ]
  },
  {
   "cell_type": "code",
   "execution_count": 24,
   "id": "5e686204-89df-4340-8020-be83a0b7eb97",
   "metadata": {},
   "outputs": [
    {
     "data": {
      "text/plain": [
       "'belly'"
      ]
     },
     "execution_count": 24,
     "metadata": {},
     "output_type": "execute_result"
    }
   ],
   "source": [
    "my_dog.name"
   ]
  },
  {
   "cell_type": "code",
   "execution_count": 40,
   "id": "10433bc5-df5a-4d22-af53-455b61898aff",
   "metadata": {},
   "outputs": [
    {
     "data": {
      "text/plain": [
       "False"
      ]
     },
     "execution_count": 40,
     "metadata": {},
     "output_type": "execute_result"
    }
   ],
   "source": [
    "my_dog.spots"
   ]
  },
  {
   "cell_type": "code",
   "execution_count": 34,
   "id": "f0e24faf-71a0-4199-90ac-fd729a7ae021",
   "metadata": {},
   "outputs": [
    {
     "data": {
      "text/plain": [
       "'This is a cute dog'"
      ]
     },
     "execution_count": 34,
     "metadata": {},
     "output_type": "execute_result"
    }
   ],
   "source": [
    "my_dog.description"
   ]
  },
  {
   "cell_type": "code",
   "execution_count": null,
   "id": "d1ba1e9e-80b8-4a79-8c20-75010b985b9b",
   "metadata": {},
   "outputs": [],
   "source": [
    "# METHOD OF CLASS\n",
    "# Method is a function that is indide of a class"
   ]
  },
  {
   "cell_type": "code",
   "execution_count": 51,
   "id": "cc2c8fa1-2e9a-4fd2-984b-c4abefe38761",
   "metadata": {},
   "outputs": [
    {
     "name": "stdout",
     "output_type": "stream",
     "text": [
      "Gau gau gau, My name is belly, my age is 3\n"
     ]
    }
   ],
   "source": [
    "my_dog.bark()"
   ]
  },
  {
   "cell_type": "code",
   "execution_count": 75,
   "id": "8664a3e7-cd2d-4966-ba9d-905cc1d9104d",
   "metadata": {},
   "outputs": [],
   "source": [
    "class Circle():\n",
    "    # CLASS OBJECT ATTRIBUTE\n",
    "    pi = 3.14\n",
    "    def __init__(self, radius = 1):#radius (ban kinh), circumfrence: chu vi\n",
    "        self.radius = radius\n",
    "        self.area = radius * radius * self.pi # (because self references a paricular instance of this object)\n",
    "        # self.area = radius * radius * Circle.pi (another way)\n",
    "        \n",
    "    # METHOD\n",
    "    def get_circumference(self):\n",
    "        return self.radius * self.pi * 2\n",
    "        "
   ]
  },
  {
   "cell_type": "code",
   "execution_count": 76,
   "id": "9a9bda66-73be-4e70-ac08-efb50fbdee20",
   "metadata": {},
   "outputs": [],
   "source": [
    "my_circle = Circle(30)"
   ]
  },
  {
   "cell_type": "code",
   "execution_count": 73,
   "id": "d90e3d77-06a8-495c-ab24-420625f7f0c5",
   "metadata": {},
   "outputs": [
    {
     "data": {
      "text/plain": [
       "188.4"
      ]
     },
     "execution_count": 73,
     "metadata": {},
     "output_type": "execute_result"
    }
   ],
   "source": [
    "my_circle.get_circumference()"
   ]
  },
  {
   "cell_type": "code",
   "execution_count": 77,
   "id": "c948cdf3-27b3-45bf-ba2b-cc309fd3dc4a",
   "metadata": {},
   "outputs": [
    {
     "data": {
      "text/plain": [
       "2826.0"
      ]
     },
     "execution_count": 77,
     "metadata": {},
     "output_type": "execute_result"
    }
   ],
   "source": [
    "my_circle.area"
   ]
  },
  {
   "cell_type": "code",
   "execution_count": 78,
   "id": "28ecf1d1-c51c-42ff-a2c6-6d0443dc326b",
   "metadata": {},
   "outputs": [],
   "source": [
    "# INHERITANCE (ke thua) --> It's a way to forn new classes using classes that have already been defined \n",
    "# => the ability to reuse code, reduce the complexity of a program"
   ]
  },
  {
   "cell_type": "code",
   "execution_count": 125,
   "id": "9906de68-9e9a-4dfa-82a5-53c6e783b5a9",
   "metadata": {},
   "outputs": [],
   "source": [
    "class Animal():\n",
    "    def __init__(self):\n",
    "        print(\"Animal..\")\n",
    "    def who_am_i(self):\n",
    "        print(\"I am an animal\")\n",
    "    def eat(self):\n",
    "        print(\"I am eating\")"
   ]
  },
  {
   "cell_type": "code",
   "execution_count": 82,
   "id": "91d84eee-874a-4157-b2bc-849d78c8e854",
   "metadata": {},
   "outputs": [
    {
     "name": "stdout",
     "output_type": "stream",
     "text": [
      "Animal..\n"
     ]
    }
   ],
   "source": [
    "my_animal = Animal()"
   ]
  },
  {
   "cell_type": "code",
   "execution_count": 84,
   "id": "0a25ae25-e5ee-48e5-9bed-2f516dd5a784",
   "metadata": {},
   "outputs": [
    {
     "name": "stdout",
     "output_type": "stream",
     "text": [
      "I am an animal\n"
     ]
    }
   ],
   "source": [
    "my_animal.who_am_i()"
   ]
  },
  {
   "cell_type": "code",
   "execution_count": 131,
   "id": "a138e981-7b52-484c-bcc6-b070379d4b19",
   "metadata": {},
   "outputs": [],
   "source": [
    "class MyDog(Animal):\n",
    "    def __init__(self):\n",
    "        #Animal.__init__(self) # inheritance all method from class Animal\n",
    "        print(\"Dog created\")\n",
    "    def who_am_i(self):\n",
    "        print(\"I am a dog\")\n",
    "    def bark(self):\n",
    "        print(\"Gau gau gau\")\n",
    "        "
   ]
  },
  {
   "cell_type": "code",
   "execution_count": 132,
   "id": "43bd4d23-ef01-4331-8b7e-e0d098d51bcb",
   "metadata": {},
   "outputs": [
    {
     "name": "stdout",
     "output_type": "stream",
     "text": [
      "Dog created\n"
     ]
    }
   ],
   "source": [
    "dog1 = MyDog()"
   ]
  },
  {
   "cell_type": "code",
   "execution_count": 133,
   "id": "b34f4c5e-a41d-45b4-8570-9b4cef4c3a28",
   "metadata": {},
   "outputs": [
    {
     "name": "stdout",
     "output_type": "stream",
     "text": [
      "I am eating\n"
     ]
    }
   ],
   "source": [
    "dog1.eat()"
   ]
  },
  {
   "cell_type": "code",
   "execution_count": 134,
   "id": "4dfeddeb-3bca-4dc5-8e8f-4065cebf9886",
   "metadata": {},
   "outputs": [
    {
     "name": "stdout",
     "output_type": "stream",
     "text": [
      "I am a dog\n"
     ]
    }
   ],
   "source": [
    "dog1.who_am_i()"
   ]
  },
  {
   "cell_type": "code",
   "execution_count": 101,
   "id": "02dbaa71-bf12-4adf-9312-3b21ab8ce0ef",
   "metadata": {},
   "outputs": [
    {
     "name": "stdout",
     "output_type": "stream",
     "text": [
      "Gau gau gau\n"
     ]
    }
   ],
   "source": [
    "dog1.bark()"
   ]
  },
  {
   "cell_type": "code",
   "execution_count": null,
   "id": "134feca4-5ffa-43a8-96a2-a6438deb42d1",
   "metadata": {},
   "outputs": [],
   "source": [
    "# Polymorphism (tinh đa hình) (optional, it won't really use it until much later)\n"
   ]
  },
  {
   "cell_type": "code",
   "execution_count": 114,
   "id": "4e305304-ff02-4e02-bd40-33f3452aafe9",
   "metadata": {},
   "outputs": [],
   "source": [
    "class Cat():\n",
    "    def __init__(self, name):\n",
    "        self.name = name\n",
    "    def speak(self):\n",
    "        return self.name + \" says Meow\""
   ]
  },
  {
   "cell_type": "code",
   "execution_count": 111,
   "id": "e9b6ffbb-8e7c-4b11-80d1-4ee98690c6f7",
   "metadata": {},
   "outputs": [],
   "source": [
    "class Mouse():\n",
    "    def __init__(self, name):\n",
    "        self.name = name\n",
    "    def speak(self):\n",
    "        return self.name + \" says chip chip\""
   ]
  },
  {
   "cell_type": "code",
   "execution_count": 115,
   "id": "e68b3c52-890a-4254-8b71-363c3f417665",
   "metadata": {},
   "outputs": [],
   "source": [
    "miumiu = Cat(\"Miumiu\")\n",
    "mickey = Mouse(\"Mickey\")"
   ]
  },
  {
   "cell_type": "code",
   "execution_count": 116,
   "id": "16fec74e-4b6d-49d4-a597-bf8136504aca",
   "metadata": {},
   "outputs": [
    {
     "data": {
      "text/plain": [
       "'Miumiu says Meow'"
      ]
     },
     "execution_count": 116,
     "metadata": {},
     "output_type": "execute_result"
    }
   ],
   "source": [
    "miumiu.speak()"
   ]
  },
  {
   "cell_type": "code",
   "execution_count": 117,
   "id": "11d7d570-e3b4-43f6-8f4c-dce232c14fd3",
   "metadata": {},
   "outputs": [
    {
     "data": {
      "text/plain": [
       "'Mickey says chip chip'"
      ]
     },
     "execution_count": 117,
     "metadata": {},
     "output_type": "execute_result"
    }
   ],
   "source": [
    "mickey.speak()"
   ]
  },
  {
   "cell_type": "code",
   "execution_count": 119,
   "id": "755a24aa-f419-4e52-be35-68c34aa3572f",
   "metadata": {},
   "outputs": [
    {
     "name": "stdout",
     "output_type": "stream",
     "text": [
      "<class '__main__.Cat'>\n",
      "<class 'str'>\n",
      "<class '__main__.Mouse'>\n",
      "<class 'str'>\n"
     ]
    }
   ],
   "source": [
    "for pet in [miumiu, mickey]:\n",
    "    print(type(pet))\n",
    "    print(type(pet.speak()))"
   ]
  },
  {
   "cell_type": "code",
   "execution_count": 135,
   "id": "4c8a3141-56ba-42d2-bf1a-08bae0ab2d8e",
   "metadata": {},
   "outputs": [],
   "source": [
    "class Pets():\n",
    "    def __init__(self, name):\n",
    "        self.name = name\n",
    "    def speak(self):\n",
    "        raise NotImplementedError(\"Not implemented\")"
   ]
  },
  {
   "cell_type": "code",
   "execution_count": 143,
   "id": "47668355-1254-452e-9cb2-18d3c3e41e85",
   "metadata": {},
   "outputs": [],
   "source": [
    "class Duck(Pets):\n",
    "    def speak(self):\n",
    "        return self.name + \"Say duck!\"\n",
    "        "
   ]
  },
  {
   "cell_type": "code",
   "execution_count": 144,
   "id": "7a8570b3-a1ff-451a-9367-718d28677e35",
   "metadata": {},
   "outputs": [],
   "source": [
    "class Chicken(Pets):\n",
    "    def speak(self):\n",
    "        return self.name + \"Say cuc tac!\"\n",
    "        "
   ]
  },
  {
   "cell_type": "code",
   "execution_count": 137,
   "id": "f0d82831-76f4-435e-9eb8-c8031a786dc9",
   "metadata": {},
   "outputs": [],
   "source": [
    "pet1 = Pets(\"Pi\")"
   ]
  },
  {
   "cell_type": "code",
   "execution_count": 142,
   "id": "32f93d67-f1e4-4e3c-9154-a7b467a56e49",
   "metadata": {},
   "outputs": [
    {
     "ename": "NotImplementedError",
     "evalue": "Not implemented",
     "output_type": "error",
     "traceback": [
      "\u001b[0;31m---------------------------------------------------------------------------\u001b[0m",
      "\u001b[0;31mNotImplementedError\u001b[0m                       Traceback (most recent call last)",
      "Cell \u001b[0;32mIn[142], line 1\u001b[0m\n\u001b[0;32m----> 1\u001b[0m \u001b[43mpet1\u001b[49m\u001b[38;5;241;43m.\u001b[39;49m\u001b[43mspeak\u001b[49m\u001b[43m(\u001b[49m\u001b[43m)\u001b[49m\n",
      "Cell \u001b[0;32mIn[135], line 5\u001b[0m, in \u001b[0;36mPets.speak\u001b[0;34m(self)\u001b[0m\n\u001b[1;32m      4\u001b[0m \u001b[38;5;28;01mdef\u001b[39;00m \u001b[38;5;21mspeak\u001b[39m(\u001b[38;5;28mself\u001b[39m):\n\u001b[0;32m----> 5\u001b[0m     \u001b[38;5;28;01mraise\u001b[39;00m \u001b[38;5;167;01mNotImplementedError\u001b[39;00m(\u001b[38;5;124m\"\u001b[39m\u001b[38;5;124mNot implemented\u001b[39m\u001b[38;5;124m\"\u001b[39m)\n",
      "\u001b[0;31mNotImplementedError\u001b[0m: Not implemented"
     ]
    }
   ],
   "source": [
    "pet1.speak()"
   ]
  },
  {
   "cell_type": "code",
   "execution_count": 146,
   "id": "f312ddab-9ac6-45ef-bdaa-ac99d2e0cbb4",
   "metadata": {},
   "outputs": [],
   "source": [
    "duck1 = Duck('Donal')"
   ]
  },
  {
   "cell_type": "code",
   "execution_count": 148,
   "id": "dd3bc8e6-74e3-44ec-97b8-46a1fc205989",
   "metadata": {},
   "outputs": [],
   "source": [
    "chicken1 = Chicken('KFC')"
   ]
  },
  {
   "cell_type": "code",
   "execution_count": 150,
   "id": "ca120b4f-7473-4ad2-8982-c2df654f00c0",
   "metadata": {},
   "outputs": [
    {
     "data": {
      "text/plain": [
       "'DonalSay duck!'"
      ]
     },
     "execution_count": 150,
     "metadata": {},
     "output_type": "execute_result"
    }
   ],
   "source": [
    "duck1.speak()"
   ]
  },
  {
   "cell_type": "code",
   "execution_count": 151,
   "id": "9784c348-5520-4d52-b007-03caeebb10cb",
   "metadata": {},
   "outputs": [
    {
     "data": {
      "text/plain": [
       "'KFCSay cuc tac!'"
      ]
     },
     "execution_count": 151,
     "metadata": {},
     "output_type": "execute_result"
    }
   ],
   "source": [
    "chicken1.speak()"
   ]
  },
  {
   "cell_type": "code",
   "execution_count": null,
   "id": "e48a1013-9a0c-41f7-ade5-9be4241314b1",
   "metadata": {},
   "outputs": [],
   "source": []
  },
  {
   "cell_type": "code",
   "execution_count": null,
   "id": "511468de-5a94-4d14-899d-f2004a7be922",
   "metadata": {},
   "outputs": [],
   "source": []
  },
  {
   "cell_type": "code",
   "execution_count": null,
   "id": "075a5b18-a5f0-40ec-ba64-6b7b7b9d2647",
   "metadata": {},
   "outputs": [],
   "source": [
    "### SPECIAL METHOD (MAGIC/ DUNDER)"
   ]
  },
  {
   "cell_type": "code",
   "execution_count": 152,
   "id": "4b3e8fd2-cfa8-4d67-8f62-c043a7c39b3a",
   "metadata": {},
   "outputs": [],
   "source": [
    "class ExampleFunc():\n",
    "    pass"
   ]
  },
  {
   "cell_type": "code",
   "execution_count": 153,
   "id": "a3954b00-3c73-4d1b-8373-35d96d5dd5c4",
   "metadata": {},
   "outputs": [],
   "source": [
    "myExp = ExampleFunc()"
   ]
  },
  {
   "cell_type": "code",
   "execution_count": 154,
   "id": "1e8de551-beef-44a0-95f5-0db03607fe67",
   "metadata": {},
   "outputs": [
    {
     "data": {
      "text/plain": [
       "<__main__.ExampleFunc at 0x11165e9f0>"
      ]
     },
     "execution_count": 154,
     "metadata": {},
     "output_type": "execute_result"
    }
   ],
   "source": [
    "myExp"
   ]
  },
  {
   "cell_type": "code",
   "execution_count": 182,
   "id": "fb82d90e-fe45-4956-a6f9-f562d0ca6c0a",
   "metadata": {},
   "outputs": [],
   "source": [
    "class Books():\n",
    "    def __init__(self, title, author, pages):\n",
    "        self.title = title\n",
    "        self.author = author\n",
    "        self.pages = pages\n",
    "    def __str__(self): # this is special method\n",
    "        return f\"{self.title} by {self.author}\"\n",
    "    def __len__(self): # this is special method\n",
    "        return self.pages\n",
    "    def __del__(self):\n",
    "        print(\"A book object has been deleted\")"
   ]
  },
  {
   "cell_type": "code",
   "execution_count": 193,
   "id": "14bf0ab1-6715-46a5-a344-1eba76b91f2f",
   "metadata": {},
   "outputs": [
    {
     "name": "stdout",
     "output_type": "stream",
     "text": [
      "A book object has been deleted\n"
     ]
    }
   ],
   "source": [
    "b = Books('Python', 'Jose', 200)\n",
    "del b"
   ]
  },
  {
   "cell_type": "code",
   "execution_count": 188,
   "id": "bffbe840-5b67-4a7c-9605-b334b2fd4bb7",
   "metadata": {},
   "outputs": [
    {
     "name": "stdout",
     "output_type": "stream",
     "text": [
      "Python by Jose\n"
     ]
    }
   ],
   "source": [
    "print(b)"
   ]
  },
  {
   "cell_type": "code",
   "execution_count": 187,
   "id": "5f86bc0f-4cc8-415a-88ce-f4abd688b9fe",
   "metadata": {},
   "outputs": [
    {
     "data": {
      "text/plain": [
       "200"
      ]
     },
     "execution_count": 187,
     "metadata": {},
     "output_type": "execute_result"
    }
   ],
   "source": [
    " len(b)"
   ]
  },
  {
   "cell_type": "code",
   "execution_count": 190,
   "id": "b9438b5d-9a96-4380-9054-b2a8884d4ca3",
   "metadata": {},
   "outputs": [
    {
     "data": {
      "text/plain": [
       "<__main__.Books at 0x1100c8dd0>"
      ]
     },
     "execution_count": 190,
     "metadata": {},
     "output_type": "execute_result"
    }
   ],
   "source": [
    "b"
   ]
  },
  {
   "cell_type": "code",
   "execution_count": 191,
   "id": "cce50e37-fc9d-4e9d-ae80-2a2fab926192",
   "metadata": {},
   "outputs": [],
   "source": [
    "del b"
   ]
  },
  {
   "cell_type": "code",
   "execution_count": 192,
   "id": "61397ead-0d77-4158-9860-2cdc1cb186ca",
   "metadata": {},
   "outputs": [
    {
     "ename": "NameError",
     "evalue": "name 'b' is not defined",
     "output_type": "error",
     "traceback": [
      "\u001b[0;31m---------------------------------------------------------------------------\u001b[0m",
      "\u001b[0;31mNameError\u001b[0m                                 Traceback (most recent call last)",
      "Cell \u001b[0;32mIn[192], line 1\u001b[0m\n\u001b[0;32m----> 1\u001b[0m \u001b[43mb\u001b[49m\n",
      "\u001b[0;31mNameError\u001b[0m: name 'b' is not defined"
     ]
    }
   ],
   "source": [
    "b"
   ]
  },
  {
   "cell_type": "code",
   "execution_count": null,
   "id": "5d5146a7-b5a4-419d-813b-4f0f2d348215",
   "metadata": {},
   "outputs": [],
   "source": []
  }
 ],
 "metadata": {
  "kernelspec": {
   "display_name": "Python 3 (ipykernel)",
   "language": "python",
   "name": "python3"
  },
  "language_info": {
   "codemirror_mode": {
    "name": "ipython",
    "version": 3
   },
   "file_extension": ".py",
   "mimetype": "text/x-python",
   "name": "python",
   "nbconvert_exporter": "python",
   "pygments_lexer": "ipython3",
   "version": "3.12.1"
  }
 },
 "nbformat": 4,
 "nbformat_minor": 5
}
