{
 "cells": [
  {
   "cell_type": "code",
   "execution_count": 1,
   "id": "6da41232-2bd3-44ed-a401-6979393d927c",
   "metadata": {},
   "outputs": [],
   "source": [
    "# Method and the python document"
   ]
  },
  {
   "cell_type": "code",
   "execution_count": 1,
   "id": "e352cad5-dd7a-4d93-9d62-3227e5557940",
   "metadata": {},
   "outputs": [],
   "source": [
    "myList = [1, 2, 3]\n",
    "myList.append(4)"
   ]
  },
  {
   "cell_type": "code",
   "execution_count": 4,
   "id": "e3baaac6-47f5-4271-ac98-0934e0fada5c",
   "metadata": {},
   "outputs": [
    {
     "data": {
      "text/plain": [
       "4"
      ]
     },
     "execution_count": 4,
     "metadata": {},
     "output_type": "execute_result"
    }
   ],
   "source": [
    "myList.pop()"
   ]
  },
  {
   "cell_type": "code",
   "execution_count": 6,
   "id": "4df65f64-0d4b-4bbd-9237-a6d594b123db",
   "metadata": {},
   "outputs": [],
   "source": [
    "myList.insert(4, 2)"
   ]
  },
  {
   "cell_type": "code",
   "execution_count": 7,
   "id": "b247d370-4d53-405d-8004-a6080c5121d9",
   "metadata": {},
   "outputs": [
    {
     "data": {
      "text/plain": [
       "[1, 2, 3, 2]"
      ]
     },
     "execution_count": 7,
     "metadata": {},
     "output_type": "execute_result"
    }
   ],
   "source": [
    "myList"
   ]
  },
  {
   "cell_type": "code",
   "execution_count": 16,
   "id": "e898ce7c-276d-40e9-89a1-4680b3ae0d50",
   "metadata": {},
   "outputs": [],
   "source": [
    "#function\n",
    "def say_hello(name = \"\"):\n",
    "    print(f'Hello {name}')"
   ]
  },
  {
   "cell_type": "code",
   "execution_count": 19,
   "id": "1a898553-c15d-4b2f-b3d0-f17cbd8945d9",
   "metadata": {},
   "outputs": [
    {
     "name": "stdout",
     "output_type": "stream",
     "text": [
      "Hello Peter\n"
     ]
    }
   ],
   "source": [
    "say_hello(\"Peter\")"
   ]
  },
  {
   "cell_type": "code",
   "execution_count": 20,
   "id": "62a012b5-327b-48b5-afa1-b63920c6b616",
   "metadata": {},
   "outputs": [],
   "source": [
    "work_hours = [('Anna', 200), ('Jose', 700), ('Peter', 400)]"
   ]
  },
  {
   "cell_type": "code",
   "execution_count": 22,
   "id": "43546fcc-63cf-490d-b4a5-f0f163168075",
   "metadata": {},
   "outputs": [],
   "source": [
    "def check_employee_most_peformance(work_hours):\n",
    "    result = work_hours[0]\n",
    "    for employee, hour in work_hours:\n",
    "        if(hour > result[1]):\n",
    "            result = (employee, hour)\n",
    "    return result"
   ]
  },
  {
   "cell_type": "code",
   "execution_count": 24,
   "id": "02db7816-cf89-47d8-a56b-833f8a99c69b",
   "metadata": {},
   "outputs": [],
   "source": [
    "employee_award = check_employee_most_peformance(work_hours)"
   ]
  },
  {
   "cell_type": "code",
   "execution_count": 25,
   "id": "80116941-6991-43d7-849b-f7a186a7c46d",
   "metadata": {},
   "outputs": [
    {
     "data": {
      "text/plain": [
       "('Jose', 700)"
      ]
     },
     "execution_count": 25,
     "metadata": {},
     "output_type": "execute_result"
    }
   ],
   "source": [
    "employee_award"
   ]
  },
  {
   "cell_type": "code",
   "execution_count": 9,
   "id": "1ad55619-0aad-479c-b407-9b3906389441",
   "metadata": {},
   "outputs": [],
   "source": [
    "\n",
    "# shuffle game\n",
    "# 1. Initial shuffle list\n",
    "# 2. Shuffle list\n",
    "# 3. User input guest number\n",
    "# 4. Compare user guest and shuffle result"
   ]
  },
  {
   "cell_type": "code",
   "execution_count": 1,
   "id": "c853a5ff-ab20-45ac-b251-6b229cb8af17",
   "metadata": {},
   "outputs": [],
   "source": [
    "from random import shuffle"
   ]
  },
  {
   "cell_type": "code",
   "execution_count": 2,
   "id": "6eb59d75-f7e5-475c-915f-7b3fa8c80349",
   "metadata": {},
   "outputs": [],
   "source": [
    "def shuffle_list (list = []):\n",
    "    shuffle(list)\n",
    "    return list"
   ]
  },
  {
   "cell_type": "code",
   "execution_count": 3,
   "id": "b880b0a8-815d-4f53-b82d-6e6dc9a530c1",
   "metadata": {},
   "outputs": [],
   "source": [
    "def input_user_guess():\n",
    "    guest = ''\n",
    "    while guest not in ['1', '2', '3']:\n",
    "        guest = input('Input position have ball (1, 2 or 3): ')\n",
    "    return int(guest)"
   ]
  },
  {
   "cell_type": "code",
   "execution_count": 12,
   "id": "915b3ce3-d493-41d6-a1e7-8308ee028ac0",
   "metadata": {},
   "outputs": [],
   "source": [
    "def check_user_guess(shuffle_list, user_guess):\n",
    "    if(shuffle_list[user_guess - 1] == \"O\"):\n",
    "        print('You are winner!!!')\n",
    "    else: print('You are wrong :(\\n', shuffle_list)"
   ]
  },
  {
   "cell_type": "code",
   "execution_count": 14,
   "id": "659e3c80-bc16-485d-a6be-8da66447b060",
   "metadata": {},
   "outputs": [
    {
     "name": "stdin",
     "output_type": "stream",
     "text": [
      "Input position have ball (1, 2 or 3):  1\n"
     ]
    },
    {
     "name": "stdout",
     "output_type": "stream",
     "text": [
      "You are wrong :(\n",
      " ['', '', 'O']\n"
     ]
    }
   ],
   "source": [
    "# shuffle game\n",
    "# 1. Initial shuffle list\n",
    "list_ball = ['', 'O', ''] # we have 3 cup, O is represent for ball, '' is represent for cup empty => cup 2 have ball\n",
    "\n",
    "# 2. Shuffle list\n",
    "list_shuffle = shuffle_list(list_ball)\n",
    "\n",
    "# 3. User input guest number\n",
    "user_guess = input_user_guess()\n",
    "\n",
    "# 4. Compare user guest and shuffle result\n",
    "final_result = check_user_guess(list_shuffle, user_guess)"
   ]
  },
  {
   "cell_type": "code",
   "execution_count": 15,
   "id": "fec3e4ce-9f7c-4e58-87cc-b296a7a82e69",
   "metadata": {},
   "outputs": [],
   "source": [
    "# *args and **kwargs"
   ]
  },
  {
   "cell_type": "code",
   "execution_count": 26,
   "id": "c01e04d4-fb26-4e52-8cee-dd34432e036c",
   "metadata": {},
   "outputs": [],
   "source": [
    "def myfunc(a, b, c):\n",
    "    return sum((a, b, c)) * 0.1"
   ]
  },
  {
   "cell_type": "code",
   "execution_count": 28,
   "id": "85bed44f-9f43-4338-ba95-ef163f860be6",
   "metadata": {},
   "outputs": [
    {
     "data": {
      "text/plain": [
       "1.0"
      ]
     },
     "execution_count": 28,
     "metadata": {},
     "output_type": "execute_result"
    }
   ],
   "source": [
    "myfunc(4, 5, 1)"
   ]
  },
  {
   "cell_type": "code",
   "execution_count": 30,
   "id": "d74d528e-84b1-46aa-b94b-43005c321d5b",
   "metadata": {},
   "outputs": [],
   "source": [
    "def myfunc_arg(*args):\n",
    "    return sum(args)"
   ]
  },
  {
   "cell_type": "code",
   "execution_count": 32,
   "id": "e33678b9-730e-412c-8960-fc4dd68cabe2",
   "metadata": {},
   "outputs": [
    {
     "data": {
      "text/plain": [
       "6"
      ]
     },
     "execution_count": 32,
     "metadata": {},
     "output_type": "execute_result"
    }
   ],
   "source": [
    "myfunc_arg(1, 2, 3)"
   ]
  },
  {
   "cell_type": "code",
   "execution_count": 52,
   "id": "4559c183-5928-4217-971a-5adfa812422c",
   "metadata": {},
   "outputs": [],
   "source": [
    "def myfunc_kwargs(**kwargs):\n",
    "    print('kwargs', kwargs)\n",
    "    if 'fruit' in kwargs:\n",
    "        print('My fruit of choice is {}'.format(kwargs['fruit']))\n",
    "    else:\n",
    "        print('I did not see')\n",
    "        "
   ]
  },
  {
   "cell_type": "code",
   "execution_count": null,
   "id": "d14cb33d-dc1b-4c48-b285-842acb7a155f",
   "metadata": {},
   "outputs": [],
   "source": []
  },
  {
   "cell_type": "code",
   "execution_count": 53,
   "id": "1215a0e9-f45e-4d61-b00d-38d188d8eebc",
   "metadata": {},
   "outputs": [
    {
     "name": "stdout",
     "output_type": "stream",
     "text": [
      "kwargs {'fruit': 'apple', 'drink': 'coca'}\n",
      "My fruit of choice is apple\n"
     ]
    }
   ],
   "source": [
    "myfunc_kwargs(fruit = 'apple', drink = 'coca')"
   ]
  },
  {
   "cell_type": "code",
   "execution_count": 54,
   "id": "56c8dbec-c33b-4e92-ad6c-33c2eab77262",
   "metadata": {},
   "outputs": [],
   "source": [
    "def myfunc_2(*args,**kwargs):\n",
    "    print('I would like {} {}'.format(args[0], kwargs['food']))"
   ]
  },
  {
   "cell_type": "code",
   "execution_count": 55,
   "id": "c620a4ed-5bc8-4e44-882c-38043492133f",
   "metadata": {},
   "outputs": [
    {
     "name": "stdout",
     "output_type": "stream",
     "text": [
      "I would like 5 chicken\n"
     ]
    }
   ],
   "source": [
    "myfunc_2(5, 10, 15, fruit = 'orange', animal = 'dog', food = 'chicken') "
   ]
  },
  {
   "cell_type": "code",
   "execution_count": 56,
   "id": "ae622690-c554-49b7-b24a-8a29b2e0926c",
   "metadata": {},
   "outputs": [],
   "source": [
    "def myfunc(*args):\n",
    "    list_even = []\n",
    "    for item in args:\n",
    "        print(item)"
   ]
  },
  {
   "cell_type": "code",
   "execution_count": 57,
   "id": "deae7baa-3651-40c9-8e29-e1c83df8b3aa",
   "metadata": {},
   "outputs": [
    {
     "name": "stdout",
     "output_type": "stream",
     "text": [
      "1\n",
      "2\n",
      "3\n",
      "4\n"
     ]
    }
   ],
   "source": [
    "myfunc(1, 2, 3, 4)"
   ]
  },
  {
   "cell_type": "code",
   "execution_count": 58,
   "id": "004999fa-a95d-4741-b7dc-ad43cbec628b",
   "metadata": {},
   "outputs": [],
   "source": [
    "list_1 = [1, 2, 3, 4]"
   ]
  },
  {
   "cell_type": "code",
   "execution_count": 61,
   "id": "11bf459d-72ae-429f-b2e4-bab7e5a86964",
   "metadata": {},
   "outputs": [],
   "source": [
    "list_1.append(5)"
   ]
  },
  {
   "cell_type": "code",
   "execution_count": 62,
   "id": "f1b23ab3-c8d9-4f72-a018-8dc3db524468",
   "metadata": {},
   "outputs": [
    {
     "data": {
      "text/plain": [
       "[1, 2, 3, 4, 5]"
      ]
     },
     "execution_count": 62,
     "metadata": {},
     "output_type": "execute_result"
    }
   ],
   "source": [
    "list_1"
   ]
  },
  {
   "cell_type": "code",
   "execution_count": 63,
   "id": "716c892b-6cfa-453c-a361-5aba5db68459",
   "metadata": {},
   "outputs": [],
   "source": [
    "string_list = 'helloPeter'"
   ]
  },
  {
   "cell_type": "code",
   "execution_count": 67,
   "id": "83a76779-e18f-469c-bafb-092c166b9192",
   "metadata": {},
   "outputs": [
    {
     "data": {
      "text/plain": [
       "9"
      ]
     },
     "execution_count": 67,
     "metadata": {},
     "output_type": "execute_result"
    }
   ],
   "source": [
    "string_list.index(l)"
   ]
  },
  {
   "cell_type": "code",
   "execution_count": 68,
   "id": "04f6c6f8-e930-4b12-9d23-66285c2ff4fe",
   "metadata": {},
   "outputs": [
    {
     "name": "stdout",
     "output_type": "stream",
     "text": [
      "Letter 'h' is at index 0\n",
      "Letter 'e' is at index 1\n",
      "Letter 'l' is at index 2\n",
      "Letter 'l' is at index 3\n",
      "Letter 'o' is at index 4\n",
      "Letter 'P' is at index 5\n",
      "Letter 'e' is at index 6\n",
      "Letter 't' is at index 7\n",
      "Letter 'e' is at index 8\n",
      "Letter 'r' is at index 9\n"
     ]
    }
   ],
   "source": [
    "for index, letter in enumerate(string_list):\n",
    "        print(f\"Letter '{letter}' is at index {index}\")"
   ]
  },
  {
   "cell_type": "code",
   "execution_count": 69,
   "id": "629369d8-1846-4fa6-a8b4-85096a9474ec",
   "metadata": {},
   "outputs": [
    {
     "data": {
      "text/plain": [
       "<enumerate at 0x11032ab10>"
      ]
     },
     "execution_count": 69,
     "metadata": {},
     "output_type": "execute_result"
    }
   ],
   "source": [
    "enumerate(string_list)"
   ]
  },
  {
   "cell_type": "code",
   "execution_count": 71,
   "id": "aa00621b-d1fe-4c68-b727-65395225cbae",
   "metadata": {},
   "outputs": [
    {
     "data": {
      "text/plain": [
       "'hellopeter'"
      ]
     },
     "execution_count": 71,
     "metadata": {},
     "output_type": "execute_result"
    }
   ],
   "source": [
    "string_list.lower()"
   ]
  },
  {
   "cell_type": "code",
   "execution_count": 78,
   "id": "476296ba-3db6-4745-91c4-4f13e470162f",
   "metadata": {},
   "outputs": [],
   "source": [
    "array = [1, 2, 3, 4, 5]\n",
    "array.reverse()"
   ]
  },
  {
   "cell_type": "code",
   "execution_count": 79,
   "id": "667c564d-8580-4a96-b149-e1d4e867a514",
   "metadata": {},
   "outputs": [
    {
     "data": {
      "text/plain": [
       "[5, 4, 3, 2, 1]"
      ]
     },
     "execution_count": 79,
     "metadata": {},
     "output_type": "execute_result"
    }
   ],
   "source": [
    "array"
   ]
  },
  {
   "cell_type": "code",
   "execution_count": null,
   "id": "406584e7-2dca-4c80-b712-ebfecd3e879b",
   "metadata": {},
   "outputs": [],
   "source": [
    "########################################################################################################################\n",
    "# MAP FUNCTION"
   ]
  },
  {
   "cell_type": "code",
   "execution_count": 80,
   "id": "0a6d2786-44c7-480a-a2be-e61b6c59344f",
   "metadata": {},
   "outputs": [],
   "source": [
    "my_nums = [1, 2, 3, 4, 5]"
   ]
  },
  {
   "cell_type": "code",
   "execution_count": 84,
   "id": "626f584f-dcb2-4dd7-b52d-5b4f814987c9",
   "metadata": {},
   "outputs": [],
   "source": [
    "def square(num):\n",
    "    return num**2;"
   ]
  },
  {
   "cell_type": "code",
   "execution_count": 86,
   "id": "8bfa927e-a855-4ba0-8c53-ef63203854be",
   "metadata": {},
   "outputs": [],
   "source": [
    "def num(num):\n",
    "    return num"
   ]
  },
  {
   "cell_type": "code",
   "execution_count": 91,
   "id": "ebe2dbe4-1cb1-4eb0-8762-b00ac4bcebe1",
   "metadata": {},
   "outputs": [
    {
     "name": "stdout",
     "output_type": "stream",
     "text": [
      "item: 1\n",
      "item: 4\n",
      "item: 9\n",
      "item: 16\n",
      "item: 25\n"
     ]
    }
   ],
   "source": [
    "\n",
    "for item in map(square, my_nums):\n",
    "    print('item:', item)"
   ]
  },
  {
   "cell_type": "code",
   "execution_count": 94,
   "id": "b7d7e9c9-a02f-4ec2-a2c6-6a12908b3580",
   "metadata": {},
   "outputs": [
    {
     "data": {
      "text/plain": [
       "[1, 4, 9, 16, 25]"
      ]
     },
     "execution_count": 94,
     "metadata": {},
     "output_type": "execute_result"
    }
   ],
   "source": [
    "list(map(square, my_nums))"
   ]
  },
  {
   "cell_type": "code",
   "execution_count": 99,
   "id": "6cbc8275-5dd5-44ed-8ebf-153a183fc8b5",
   "metadata": {},
   "outputs": [
    {
     "data": {
      "text/plain": [
       "[1, 4, 9, 16, 25]"
      ]
     },
     "execution_count": 99,
     "metadata": {},
     "output_type": "execute_result"
    }
   ],
   "source": [
    "# or use this way we already study before\n",
    "[num**2 for num in my_nums]"
   ]
  },
  {
   "cell_type": "code",
   "execution_count": 102,
   "id": "681e2198-15f1-4a9d-84d0-8a24b3efc659",
   "metadata": {},
   "outputs": [
    {
     "data": {
      "text/plain": [
       "[1, 4, 9, 16, 25]"
      ]
     },
     "execution_count": 102,
     "metadata": {},
     "output_type": "execute_result"
    }
   ],
   "source": [
    "# or use this way we already study before\n",
    "[square(num) for num in my_nums]"
   ]
  },
  {
   "cell_type": "code",
   "execution_count": null,
   "id": "85d0f779-6306-4c56-b005-9515319fb1fb",
   "metadata": {},
   "outputs": [],
   "source": [
    "########################################################################################################################\n",
    "# FILTER FUNCTION"
   ]
  },
  {
   "cell_type": "code",
   "execution_count": 103,
   "id": "cccc10ed-81e6-4abc-ba57-3d8419e6bdd8",
   "metadata": {},
   "outputs": [],
   "source": [
    "def check_even(num):\n",
    "    return num % 2 == 0"
   ]
  },
  {
   "cell_type": "code",
   "execution_count": 104,
   "id": "5d2bab75-c0cf-4362-b8d0-7d1f0225d132",
   "metadata": {},
   "outputs": [],
   "source": [
    "myNums = [1, 2, 3, 4, 5, 6, 7, 8, 9]"
   ]
  },
  {
   "cell_type": "code",
   "execution_count": 106,
   "id": "52691715-150f-4568-b375-51199c5a6e6d",
   "metadata": {},
   "outputs": [
    {
     "data": {
      "text/plain": [
       "[2, 4, 6, 8]"
      ]
     },
     "execution_count": 106,
     "metadata": {},
     "output_type": "execute_result"
    }
   ],
   "source": [
    "# filter all item even in myNums list by check_even function\n",
    "list(filter(check_even, myNums))"
   ]
  },
  {
   "cell_type": "code",
   "execution_count": 119,
   "id": "48594f8a-86f9-4f08-a91d-91484987c671",
   "metadata": {},
   "outputs": [
    {
     "data": {
      "text/plain": [
       "[1, 4, 9, 16, 25]"
      ]
     },
     "execution_count": 119,
     "metadata": {},
     "output_type": "execute_result"
    }
   ],
   "source": [
    "# shorthand of function\n",
    "# lambda num: num**2\n",
    "list(map(lambda num: num**2, my_nums))"
   ]
  },
  {
   "cell_type": "code",
   "execution_count": 121,
   "id": "b66bb964-5143-49ee-96f2-32cbb30cc569",
   "metadata": {},
   "outputs": [
    {
     "data": {
      "text/plain": [
       "[2, 4, 6, 8]"
      ]
     },
     "execution_count": 121,
     "metadata": {},
     "output_type": "execute_result"
    }
   ],
   "source": [
    "list(filter(lambda num: num % 2 == 0, myNums)) #filter even number with shorthand function"
   ]
  },
  {
   "cell_type": "code",
   "execution_count": null,
   "id": "49b60fdb-1e49-4fa1-8965-8106fa045ebd",
   "metadata": {},
   "outputs": [],
   "source": [
    "##################################################################\n",
    "# NESTED STATEMENT AND SCOPE"
   ]
  },
  {
   "cell_type": "code",
   "execution_count": 134,
   "id": "6128f0eb-f9f3-4d7e-bc22-623cc7f0b2a5",
   "metadata": {},
   "outputs": [],
   "source": [
    "x = 50\n",
    "def printer():\n",
    "    global x # when use global keyword => when change x, x in global will be change also => avoid use this keyword\n",
    "    print(\"x value:\", x)\n",
    "    x = 300\n",
    "    print('New x value:', x)"
   ]
  },
  {
   "cell_type": "code",
   "execution_count": 132,
   "id": "78abd6da-6ee3-4386-bc1e-d1fdea6c29dd",
   "metadata": {},
   "outputs": [
    {
     "name": "stdout",
     "output_type": "stream",
     "text": [
      "300\n"
     ]
    }
   ],
   "source": [
    "print(x)"
   ]
  },
  {
   "cell_type": "code",
   "execution_count": 131,
   "id": "c1add987-e93e-46b6-bbce-364e8a080572",
   "metadata": {},
   "outputs": [
    {
     "name": "stdout",
     "output_type": "stream",
     "text": [
      "x value: 50\n",
      "New x value: 300\n"
     ]
    }
   ],
   "source": [
    "printer()"
   ]
  },
  {
   "cell_type": "code",
   "execution_count": null,
   "id": "a4dd2dbb-ab3e-4e61-863a-a9d2feea01cb",
   "metadata": {},
   "outputs": [],
   "source": []
  }
 ],
 "metadata": {
  "kernelspec": {
   "display_name": "Python 3 (ipykernel)",
   "language": "python",
   "name": "python3"
  },
  "language_info": {
   "codemirror_mode": {
    "name": "ipython",
    "version": 3
   },
   "file_extension": ".py",
   "mimetype": "text/x-python",
   "name": "python",
   "nbconvert_exporter": "python",
   "pygments_lexer": "ipython3",
   "version": "3.12.1"
  }
 },
 "nbformat": 4,
 "nbformat_minor": 5
}
