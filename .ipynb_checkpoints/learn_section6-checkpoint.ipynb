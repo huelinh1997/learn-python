{
 "cells": [
  {
   "cell_type": "code",
   "execution_count": 1,
   "id": "6da41232-2bd3-44ed-a401-6979393d927c",
   "metadata": {},
   "outputs": [],
   "source": [
    "# Method and the python document"
   ]
  },
  {
   "cell_type": "code",
   "execution_count": 1,
   "id": "e352cad5-dd7a-4d93-9d62-3227e5557940",
   "metadata": {},
   "outputs": [],
   "source": [
    "myList = [1, 2, 3]\n",
    "myList.append(4)"
   ]
  },
  {
   "cell_type": "code",
   "execution_count": 4,
   "id": "e3baaac6-47f5-4271-ac98-0934e0fada5c",
   "metadata": {},
   "outputs": [
    {
     "data": {
      "text/plain": [
       "4"
      ]
     },
     "execution_count": 4,
     "metadata": {},
     "output_type": "execute_result"
    }
   ],
   "source": [
    "myList.pop()"
   ]
  },
  {
   "cell_type": "code",
   "execution_count": 6,
   "id": "4df65f64-0d4b-4bbd-9237-a6d594b123db",
   "metadata": {},
   "outputs": [],
   "source": [
    "myList.insert(4, 2)"
   ]
  },
  {
   "cell_type": "code",
   "execution_count": 7,
   "id": "b247d370-4d53-405d-8004-a6080c5121d9",
   "metadata": {},
   "outputs": [
    {
     "data": {
      "text/plain": [
       "[1, 2, 3, 2]"
      ]
     },
     "execution_count": 7,
     "metadata": {},
     "output_type": "execute_result"
    }
   ],
   "source": [
    "myList"
   ]
  },
  {
   "cell_type": "code",
   "execution_count": 16,
   "id": "e898ce7c-276d-40e9-89a1-4680b3ae0d50",
   "metadata": {},
   "outputs": [],
   "source": [
    "#function\n",
    "def say_hello(name = \"\"):\n",
    "    print(f'Hello {name}')"
   ]
  },
  {
   "cell_type": "code",
   "execution_count": 19,
   "id": "1a898553-c15d-4b2f-b3d0-f17cbd8945d9",
   "metadata": {},
   "outputs": [
    {
     "name": "stdout",
     "output_type": "stream",
     "text": [
      "Hello Peter\n"
     ]
    }
   ],
   "source": [
    "say_hello(\"Peter\")"
   ]
  },
  {
   "cell_type": "code",
   "execution_count": 20,
   "id": "62a012b5-327b-48b5-afa1-b63920c6b616",
   "metadata": {},
   "outputs": [],
   "source": [
    "work_hours = [('Anna', 200), ('Jose', 700), ('Peter', 400)]"
   ]
  },
  {
   "cell_type": "code",
   "execution_count": 22,
   "id": "43546fcc-63cf-490d-b4a5-f0f163168075",
   "metadata": {},
   "outputs": [],
   "source": [
    "def check_employee_most_peformance(work_hours):\n",
    "    result = work_hours[0]\n",
    "    for employee, hour in work_hours:\n",
    "        if(hour > result[1]):\n",
    "            result = (employee, hour)\n",
    "    return result"
   ]
  },
  {
   "cell_type": "code",
   "execution_count": 24,
   "id": "02db7816-cf89-47d8-a56b-833f8a99c69b",
   "metadata": {},
   "outputs": [],
   "source": [
    "employee_award = check_employee_most_peformance(work_hours)"
   ]
  },
  {
   "cell_type": "code",
   "execution_count": 25,
   "id": "80116941-6991-43d7-849b-f7a186a7c46d",
   "metadata": {},
   "outputs": [
    {
     "data": {
      "text/plain": [
       "('Jose', 700)"
      ]
     },
     "execution_count": 25,
     "metadata": {},
     "output_type": "execute_result"
    }
   ],
   "source": [
    "employee_award"
   ]
  },
  {
   "cell_type": "code",
   "execution_count": 9,
   "id": "1ad55619-0aad-479c-b407-9b3906389441",
   "metadata": {},
   "outputs": [],
   "source": [
    "\n",
    "# shuffle game\n",
    "# 1. Initial shuffle list\n",
    "# 2. Shuffle list\n",
    "# 3. User input guest number\n",
    "# 4. Compare user guest and shuffle result"
   ]
  },
  {
   "cell_type": "code",
   "execution_count": 1,
   "id": "c853a5ff-ab20-45ac-b251-6b229cb8af17",
   "metadata": {},
   "outputs": [],
   "source": [
    "from random import shuffle"
   ]
  },
  {
   "cell_type": "code",
   "execution_count": 2,
   "id": "6eb59d75-f7e5-475c-915f-7b3fa8c80349",
   "metadata": {},
   "outputs": [],
   "source": [
    "def shuffle_list (list = []):\n",
    "    shuffle(list)\n",
    "    return list"
   ]
  },
  {
   "cell_type": "code",
   "execution_count": 3,
   "id": "b880b0a8-815d-4f53-b82d-6e6dc9a530c1",
   "metadata": {},
   "outputs": [],
   "source": [
    "def input_user_guess():\n",
    "    guest = ''\n",
    "    while guest not in ['1', '2', '3']:\n",
    "        guest = input('Input position have ball (1, 2 or 3): ')\n",
    "    return int(guest)"
   ]
  },
  {
   "cell_type": "code",
   "execution_count": 12,
   "id": "915b3ce3-d493-41d6-a1e7-8308ee028ac0",
   "metadata": {},
   "outputs": [],
   "source": [
    "def check_user_guess(shuffle_list, user_guess):\n",
    "    if(shuffle_list[user_guess - 1] == \"O\"):\n",
    "        print('You are winner!!!')\n",
    "    else: print('You are wrong :(\\n', shuffle_list)"
   ]
  },
  {
   "cell_type": "code",
   "execution_count": 14,
   "id": "659e3c80-bc16-485d-a6be-8da66447b060",
   "metadata": {},
   "outputs": [
    {
     "name": "stdin",
     "output_type": "stream",
     "text": [
      "Input position have ball (1, 2 or 3):  1\n"
     ]
    },
    {
     "name": "stdout",
     "output_type": "stream",
     "text": [
      "You are wrong :(\n",
      " ['', '', 'O']\n"
     ]
    }
   ],
   "source": [
    "# shuffle game\n",
    "# 1. Initial shuffle list\n",
    "list_ball = ['', 'O', ''] # we have 3 cup, O is represent for ball, '' is represent for cup empty => cup 2 have ball\n",
    "\n",
    "# 2. Shuffle list\n",
    "list_shuffle = shuffle_list(list_ball)\n",
    "\n",
    "# 3. User input guest number\n",
    "user_guess = input_user_guess()\n",
    "\n",
    "# 4. Compare user guest and shuffle result\n",
    "final_result = check_user_guess(list_shuffle, user_guess)"
   ]
  },
  {
   "cell_type": "code",
   "execution_count": 15,
   "id": "fec3e4ce-9f7c-4e58-87cc-b296a7a82e69",
   "metadata": {},
   "outputs": [],
   "source": [
    "# *args and **kwargs"
   ]
  },
  {
   "cell_type": "code",
   "execution_count": 26,
   "id": "c01e04d4-fb26-4e52-8cee-dd34432e036c",
   "metadata": {},
   "outputs": [],
   "source": [
    "def myfunc(a, b, c):\n",
    "    return sum((a, b, c)) * 0.1"
   ]
  },
  {
   "cell_type": "code",
   "execution_count": 28,
   "id": "85bed44f-9f43-4338-ba95-ef163f860be6",
   "metadata": {},
   "outputs": [
    {
     "data": {
      "text/plain": [
       "1.0"
      ]
     },
     "execution_count": 28,
     "metadata": {},
     "output_type": "execute_result"
    }
   ],
   "source": [
    "myfunc(4, 5, 1)"
   ]
  },
  {
   "cell_type": "code",
   "execution_count": 30,
   "id": "d74d528e-84b1-46aa-b94b-43005c321d5b",
   "metadata": {},
   "outputs": [],
   "source": [
    "def myfunc_arg(*args):\n",
    "    return sum(args)"
   ]
  },
  {
   "cell_type": "code",
   "execution_count": 32,
   "id": "e33678b9-730e-412c-8960-fc4dd68cabe2",
   "metadata": {},
   "outputs": [
    {
     "data": {
      "text/plain": [
       "6"
      ]
     },
     "execution_count": 32,
     "metadata": {},
     "output_type": "execute_result"
    }
   ],
   "source": [
    "myfunc_arg(1, 2, 3)"
   ]
  },
  {
   "cell_type": "code",
   "execution_count": 36,
   "id": "4559c183-5928-4217-971a-5adfa812422c",
   "metadata": {},
   "outputs": [],
   "source": [
    "def myfunc_kwargs(**kwargs):\n",
    "    \n",
    "    if 'fruit' in kwargs:\n",
    "        print('kwargs', kwargs)\n",
    "        print('My fruit of choice is {}'.format(kwargs['fruit']))\n",
    "    else:\n",
    "        print('I did not see')\n",
    "        "
   ]
  },
  {
   "cell_type": "code",
   "execution_count": null,
   "id": "d14cb33d-dc1b-4c48-b285-842acb7a155f",
   "metadata": {},
   "outputs": [],
   "source": []
  },
  {
   "cell_type": "code",
   "execution_count": 40,
   "id": "1215a0e9-f45e-4d61-b00d-38d188d8eebc",
   "metadata": {},
   "outputs": [
    {
     "name": "stdout",
     "output_type": "stream",
     "text": [
      "My fruit of choice is apple\n"
     ]
    }
   ],
   "source": [
    "myfunc_kwargs(fruit = 'apple', drink = 'coca')"
   ]
  },
  {
   "cell_type": "code",
   "execution_count": 38,
   "id": "56c8dbec-c33b-4e92-ad6c-33c2eab77262",
   "metadata": {},
   "outputs": [],
   "source": [
    "def myfunc_2(*args, **kwargs):\n",
    "    print('I would like {} {}'.format(args[0], kwargs['food']))"
   ]
  },
  {
   "cell_type": "code",
   "execution_count": null,
   "id": "c620a4ed-5bc8-4e44-882c-38043492133f",
   "metadata": {},
   "outputs": [],
   "source": [
    " "
   ]
  }
 ],
 "metadata": {
  "kernelspec": {
   "display_name": "Python 3 (ipykernel)",
   "language": "python",
   "name": "python3"
  },
  "language_info": {
   "codemirror_mode": {
    "name": "ipython",
    "version": 3
   },
   "file_extension": ".py",
   "mimetype": "text/x-python",
   "name": "python",
   "nbconvert_exporter": "python",
   "pygments_lexer": "ipython3",
   "version": "3.12.1"
  }
 },
 "nbformat": 4,
 "nbformat_minor": 5
}
