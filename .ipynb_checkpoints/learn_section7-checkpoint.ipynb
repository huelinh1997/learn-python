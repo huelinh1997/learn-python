{
 "cells": [
  {
   "cell_type": "code",
   "execution_count": 3,
   "id": "6eb994fa-bf66-40e1-9711-93b414879e8e",
   "metadata": {},
   "outputs": [],
   "source": [
    "############\n",
    "# MILESTONE PROJECT 1"
   ]
  },
  {
   "cell_type": "code",
   "execution_count": 37,
   "id": "886741f4-0c7c-48df-b8d6-d35d373b312d",
   "metadata": {},
   "outputs": [],
   "source": [
    "def user_choice():\n",
    "    choice = ''\n",
    "    acceptable_range = range(0, 10)\n",
    "    while choice.isdigit() == False or int(choice) in acceptable_range == False:\n",
    "        \n",
    "        choice = input('Please enter a number (0-10):')\n",
    "        if(choice.isdigit() == False):\n",
    "            print('Sorry, that is not a digit!')\n",
    "        elif (int(choice) not in acceptable_range):\n",
    "            print('Sorry, you are out of acceptable range (0-10)')\n",
    "        else: pass\n",
    "    return int(choice)"
   ]
  },
  {
   "cell_type": "code",
   "execution_count": 38,
   "id": "5667efb6-bdd3-46f0-b7b0-8cdfa2afd75b",
   "metadata": {},
   "outputs": [
    {
     "name": "stdin",
     "output_type": "stream",
     "text": [
      "Please enter a number (0-10): abc\n"
     ]
    },
    {
     "name": "stdout",
     "output_type": "stream",
     "text": [
      "Sorry, that is not a digit!\n"
     ]
    },
    {
     "name": "stdin",
     "output_type": "stream",
     "text": [
      "Please enter a number (0-10): def\n"
     ]
    },
    {
     "name": "stdout",
     "output_type": "stream",
     "text": [
      "Sorry, that is not a digit!\n"
     ]
    },
    {
     "name": "stdin",
     "output_type": "stream",
     "text": [
      "Please enter a number (0-10): 12\n"
     ]
    },
    {
     "data": {
      "text/plain": [
       "12"
      ]
     },
     "execution_count": 38,
     "metadata": {},
     "output_type": "execute_result"
    }
   ],
   "source": [
    "user_choice()"
   ]
  },
  {
   "cell_type": "code",
   "execution_count": 26,
   "id": "12ab93a3-ddfe-43a8-b197-2201ec2694ef",
   "metadata": {},
   "outputs": [
    {
     "data": {
      "text/plain": [
       "False"
      ]
     },
     "execution_count": 26,
     "metadata": {},
     "output_type": "execute_result"
    }
   ],
   "source": [
    "10 in range(0, 10)"
   ]
  },
  {
   "cell_type": "code",
   "execution_count": null,
   "id": "0aeb0f6a-b3bc-40c1-93a0-419b5d92befd",
   "metadata": {},
   "outputs": [],
   "source": []
  }
 ],
 "metadata": {
  "kernelspec": {
   "display_name": "Python 3 (ipykernel)",
   "language": "python",
   "name": "python3"
  },
  "language_info": {
   "codemirror_mode": {
    "name": "ipython",
    "version": 3
   },
   "file_extension": ".py",
   "mimetype": "text/x-python",
   "name": "python",
   "nbconvert_exporter": "python",
   "pygments_lexer": "ipython3",
   "version": "3.12.1"
  }
 },
 "nbformat": 4,
 "nbformat_minor": 5
}
